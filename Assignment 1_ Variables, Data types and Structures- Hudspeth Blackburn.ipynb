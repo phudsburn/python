{
 "cells": [
  {
   "cell_type": "code",
   "execution_count": 2,
   "metadata": {},
   "outputs": [],
   "source": [
    "# five container variables with fruits/vegetables\n",
    "bucket = \"strawberries\"\n",
    "bowl = \"apples\"\n",
    "crate = \"mangoes\"\n",
    "basket = \"pineapples\"\n",
    "cup = \"kiwis\""
   ]
  },
  {
   "cell_type": "code",
   "execution_count": 5,
   "metadata": {},
   "outputs": [
    {
     "name": "stdout",
     "output_type": "stream",
     "text": [
      "the bucket contains strawberries\n",
      "the bowl contains apples\n",
      "the crate contains mangoes\n",
      "the basket contains pineapples\n",
      "the cup contains kiwis\n"
     ]
    }
   ],
   "source": [
    "#print out what they’re storing\n",
    "print \"the bucket contains\" + \" \" + bucket \n",
    "print \"the bowl contains\" + \" \" + bowl \n",
    "print \"the crate contains\" + \" \" + crate \n",
    "print \"the basket contains\" + \" \" + basket \n",
    "print \"the cup contains\" + \" \" + cup "
   ]
  },
  {
   "cell_type": "code",
   "execution_count": 8,
   "metadata": {},
   "outputs": [],
   "source": [
    "##Store the following sentence in a variable called “sentence” \n",
    "sentence = \"Klavan said that producers have \\\"called my agent asking, \\'Why would you represent this guy?\\' Anything that lowers your odds is going to hurt.\\\"\""
   ]
  },
  {
   "cell_type": "code",
   "execution_count": 9,
   "metadata": {},
   "outputs": [
    {
     "name": "stdout",
     "output_type": "stream",
     "text": [
      "Klavan said that producers have \"called my agent asking, 'Why would you represent this guy?' Anything that lowers your odds is going to hurt.\"\n"
     ]
    }
   ],
   "source": [
    "#After storing it as a variable, print it out\n",
    "print sentence"
   ]
  },
  {
   "cell_type": "code",
   "execution_count": 11,
   "metadata": {},
   "outputs": [],
   "source": [
    "#Create a list called “presidents” and store at least five names in there.\n",
    "presidents = [\"washington\", \"adams\", \"lincoln\", \"kennedy\", \"obama\"]"
   ]
  },
  {
   "cell_type": "code",
   "execution_count": 13,
   "metadata": {},
   "outputs": [
    {
     "name": "stdout",
     "output_type": "stream",
     "text": [
      "['washington', 'adams', 'lincoln', 'kennedy', 'obama']\n"
     ]
    }
   ],
   "source": [
    "#print that list\n",
    "print presidents"
   ]
  },
  {
   "cell_type": "code",
   "execution_count": 14,
   "metadata": {},
   "outputs": [
    {
     "name": "stdout",
     "output_type": "stream",
     "text": [
      "lincoln\n"
     ]
    }
   ],
   "source": [
    "#print out the third item in that list\n",
    "print presidents[2]"
   ]
  },
  {
   "cell_type": "code",
   "execution_count": 15,
   "metadata": {},
   "outputs": [],
   "source": [
    "#Create another list called “birthyears” with the matching birth years for those presidents\n",
    "birthyears = [1732, 1735, 1809, 1917, 1961]"
   ]
  },
  {
   "cell_type": "code",
   "execution_count": 16,
   "metadata": {},
   "outputs": [
    {
     "name": "stdout",
     "output_type": "stream",
     "text": [
      "[1732, 1735, 1809, 1917, 1961]\n"
     ]
    }
   ],
   "source": [
    "#print that list\n",
    "print birthyears"
   ]
  },
  {
   "cell_type": "code",
   "execution_count": 17,
   "metadata": {},
   "outputs": [
    {
     "name": "stdout",
     "output_type": "stream",
     "text": [
      "1961\n"
     ]
    }
   ],
   "source": [
    "#print out the last item in that list\n",
    "print birthyears[-1]"
   ]
  },
  {
   "cell_type": "code",
   "execution_count": 20,
   "metadata": {},
   "outputs": [],
   "source": [
    "#Create a dictionary called “pData” that includes the data from both task 3 and four.\n",
    "pdata = {\n",
    "    \"washington\":1732, \n",
    "    \"adams\":1735,\n",
    "    \"lincoln\":1809,\n",
    "    \"kennedy\":1917,\n",
    "    \"obama\":1961} "
   ]
  },
  {
   "cell_type": "code",
   "execution_count": 22,
   "metadata": {},
   "outputs": [
    {
     "name": "stdout",
     "output_type": "stream",
     "text": [
      "{'lincoln': 1809, 'obama': 1961, 'washington': 1732, 'adams': 1735, 'kennedy': 1917}\n"
     ]
    }
   ],
   "source": [
    "#print the dictionary\n",
    "print pdata"
   ]
  },
  {
   "cell_type": "code",
   "execution_count": null,
   "metadata": {},
   "outputs": [],
   "source": []
  }
 ],
 "metadata": {
  "kernelspec": {
   "display_name": "Python 2",
   "language": "python",
   "name": "python2"
  },
  "language_info": {
   "codemirror_mode": {
    "name": "ipython",
    "version": 2
   },
   "file_extension": ".py",
   "mimetype": "text/x-python",
   "name": "python",
   "nbconvert_exporter": "python",
   "pygments_lexer": "ipython2",
   "version": "2.7.10"
  }
 },
 "nbformat": 4,
 "nbformat_minor": 2
}
